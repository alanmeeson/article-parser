{
 "cells": [
  {
   "cell_type": "markdown",
   "id": "60a7f86c-065a-4110-82b5-b03d7a710450",
   "metadata": {},
   "source": [
    "# Document Layout Analysis\n",
    "\n",
    "**Author:** Alan Meeson <alan@carefullycalculated.co.uk>\n",
    "\n",
    "**Date:** 2023-07-09\n",
    "\n",
    "Apply document layout analysis to break the paper down into it's components."
   ]
  },
  {
   "cell_type": "code",
   "execution_count": null,
   "id": "21183ffc-6c5e-4613-98dd-7f4c0ebed2ea",
   "metadata": {
    "tags": []
   },
   "outputs": [],
   "source": [
    "import os\n",
    "import io\n",
    "import fitz\n",
    "import torch\n",
    "import torchvision\n",
    "import json\n",
    "import numpy as np\n",
    "import matplotlib.pyplot as plt\n",
    "import layoutparser as lp\n",
    "import pytesseract\n",
    "\n",
    "from tqdm.notebook import tqdm\n",
    "from typing import List, Dict, Set, Union\n",
    "from pyprojroot import here\n",
    "from PIL import Image"
   ]
  },
  {
   "cell_type": "markdown",
   "id": "ea2394fe-8c11-4800-8798-04cd69262237",
   "metadata": {},
   "source": [
    "## Load a paper and display a page"
   ]
  },
  {
   "cell_type": "code",
   "execution_count": null,
   "id": "ccd5bd98-f4ef-4904-bfe7-613f0d25e25e",
   "metadata": {
    "tags": []
   },
   "outputs": [],
   "source": [
    "paper_pdf = os.path.join(here(), 'data', 'paper.pdf')"
   ]
  },
  {
   "cell_type": "code",
   "execution_count": null,
   "id": "bb7692cd-9aae-4748-b258-fc960bcdec06",
   "metadata": {
    "tags": []
   },
   "outputs": [],
   "source": [
    "pdf = fitz.open(paper_pdf)"
   ]
  },
  {
   "cell_type": "code",
   "execution_count": null,
   "id": "9ccfe703-7b3f-439c-8913-e56a0b1eb643",
   "metadata": {
    "tags": []
   },
   "outputs": [],
   "source": [
    "page = pdf[0]\n",
    "pix = page.get_pixmap(matrix=fitz.Matrix(2, 2))\n",
    "\n",
    "mode = \"RGBA\" if pix.alpha else \"RGB\"\n",
    "img = Image.frombytes(mode, [pix.width, pix.height], pix.samples)\n",
    "img"
   ]
  },
  {
   "cell_type": "markdown",
   "id": "2d859522-682d-4499-b107-b08e618e4f4b",
   "metadata": {},
   "source": [
    "## Declare & Apply the analysis pipeline"
   ]
  },
  {
   "cell_type": "code",
   "execution_count": null,
   "id": "df416c83-7884-4c47-9866-92e83fb5fd0f",
   "metadata": {
    "tags": []
   },
   "outputs": [],
   "source": [
    "model = lp.Detectron2LayoutModel(\n",
    "    config_path=os.path.join(here(), 'model', 'config.yaml'), \n",
    "    model_path=os.path.join(here(), 'model', 'model_final.pth'),\n",
    "    extra_config=[\"MODEL.ROI_HEADS.SCORE_THRESH_TEST\", 0.5], \n",
    "    label_map={0: \"Text\", 1: \"Title\", 2: \"List\", 3: \"Table\", 4: \"Figure\"}\n",
    ")"
   ]
  },
  {
   "cell_type": "code",
   "execution_count": null,
   "id": "09634f34-f6e5-4d64-b470-ca3f89b37877",
   "metadata": {
    "tags": []
   },
   "outputs": [],
   "source": [
    "layout = model.detect(img)"
   ]
  },
  {
   "cell_type": "code",
   "execution_count": null,
   "id": "a05ef1d3-0418-4b3d-a4bf-f683dacc4c42",
   "metadata": {
    "tags": []
   },
   "outputs": [],
   "source": [
    "lp.draw_box(img, layout, box_width=3)"
   ]
  },
  {
   "cell_type": "markdown",
   "id": "3e5b4939-a537-4745-9cbf-a75f2f961e7c",
   "metadata": {},
   "source": [
    "## Extract Sections"
   ]
  },
  {
   "cell_type": "markdown",
   "id": "498aa772-42f1-4a8d-ade1-8129687dbf2d",
   "metadata": {},
   "source": [
    "### Identify Columns and sort blocks"
   ]
  },
  {
   "cell_type": "code",
   "execution_count": null,
   "id": "5ccab736-ecc1-4763-aad2-93026f62e8a6",
   "metadata": {},
   "outputs": [],
   "source": [
    "widths = [bl.width for bl in layout]\n",
    "plt.hist(widths)"
   ]
  },
  {
   "cell_type": "code",
   "execution_count": null,
   "id": "94c81a23-8f48-4483-9196-6eb0974962e9",
   "metadata": {},
   "outputs": [],
   "source": [
    "num_cols = int(img.width // np.median(widths))\n",
    "num_cols"
   ]
  },
  {
   "cell_type": "code",
   "execution_count": null,
   "id": "3728373f-21bd-4ace-a66a-5e7c802947f0",
   "metadata": {},
   "outputs": [],
   "source": [
    "column_width = np.median([bl.width for bl in layout])\n",
    "layout.sort(key = lambda x: (\n",
    "    x.coordinates[0] // column_width, # column number\n",
    "    x.coordinates[1] # Y position\n",
    "), inplace=True)"
   ]
  },
  {
   "cell_type": "code",
   "execution_count": null,
   "id": "f40f7fa7-2fc0-4a55-ac28-599a7eeeb01c",
   "metadata": {},
   "outputs": [],
   "source": [
    "[(l.coordinates[0], l.coordinates[1]) for l in layout]"
   ]
  },
  {
   "cell_type": "markdown",
   "id": "96d314f4-e67f-4e2f-9789-7826c35de046",
   "metadata": {},
   "source": [
    "### Extract Text"
   ]
  },
  {
   "cell_type": "code",
   "execution_count": null,
   "id": "48fb1802-5274-474d-9410-ee872a46c408",
   "metadata": {},
   "outputs": [],
   "source": [
    "text_blocks = lp.Layout([b for b in layout if b.type in {'Text', 'Title', 'List'}])\n",
    "tb = text_blocks[0]\n",
    "tb"
   ]
  },
  {
   "cell_type": "code",
   "execution_count": null,
   "id": "53157df6-b666-48eb-be56-7ba954011c3c",
   "metadata": {},
   "outputs": [],
   "source": [
    "text_image = tb.pad(15,5,15,5).crop_image(np.array(img))\n",
    "plt.imshow(text_image)"
   ]
  },
  {
   "cell_type": "code",
   "execution_count": null,
   "id": "1448e0ef-1915-43f4-833e-de14199ef938",
   "metadata": {},
   "outputs": [],
   "source": [
    "text = pytesseract.image_to_string(text_image, config='--oem 3 --psm 6')\n",
    "text\n",
    "#probable_caption.set(text=text, inplace=True)"
   ]
  },
  {
   "cell_type": "code",
   "execution_count": null,
   "id": "b32036d9-8496-4e2e-9d3b-b7d6cd7bf9c1",
   "metadata": {},
   "outputs": [],
   "source": [
    "text.replace(\"-\\n\", '').replace('\\n', ' ')"
   ]
  },
  {
   "cell_type": "code",
   "execution_count": null,
   "id": "424e1769-e8c4-4047-8e04-a26038c7da0c",
   "metadata": {},
   "outputs": [],
   "source": [
    "for block in layout:\n",
    "    if block.type in {\"Text\", \"Title\", \"List\"}:\n",
    "        text_image = block.pad(5,5,5,5).crop_image(np.array(img))\n",
    "        text = pytesseract.image_to_string(text_image, config='--oem 3 --psm 6')\n",
    "        text = text.replace(\"-\\n\", '').replace('\\n', ' ').strip()\n",
    "        block.set(text=text, inplace=True)"
   ]
  },
  {
   "cell_type": "markdown",
   "id": "f1093584-64be-49e3-94e7-26c555ea4734",
   "metadata": {},
   "source": [
    "## Extract an image"
   ]
  },
  {
   "cell_type": "code",
   "execution_count": null,
   "id": "ae99d23a-7cd0-4de3-998b-e5f520558c1d",
   "metadata": {
    "scrolled": true,
    "tags": []
   },
   "outputs": [],
   "source": [
    "figure_idxs = [idx for idx, b in enumerate(layout) if b.type=='Figure']\n",
    "fi = figure_idxs[0]\n",
    "fb = layout[fi]\n",
    "fb"
   ]
  },
  {
   "cell_type": "code",
   "execution_count": null,
   "id": "c5ae0d60-3496-4cb8-8843-721a64dd4f80",
   "metadata": {},
   "outputs": [],
   "source": [
    "plt.imshow(fb.pad(15,15,15,15).crop_image(np.array(img)))"
   ]
  },
  {
   "cell_type": "code",
   "execution_count": null,
   "id": "e81f13f0-c375-45b9-8272-14cb63ebc157",
   "metadata": {},
   "outputs": [],
   "source": [
    "candidate_caption = layout[fi+1]\n",
    "candidate_caption"
   ]
  },
  {
   "cell_type": "code",
   "execution_count": null,
   "id": "07251dc5-bdae-4e44-8dbb-9b2840b25e1f",
   "metadata": {},
   "outputs": [],
   "source": [
    "#candidate_caption_text = candidate_caption.text.lower()\n",
    "probably_figure_caption = any(map(candidate_caption.text.lower().startswith, ['fig', 'figure']))\n",
    "probably_figure_caption"
   ]
  },
  {
   "cell_type": "code",
   "execution_count": null,
   "id": "a85cff06-2672-4e4b-a046-9a041141c66b",
   "metadata": {},
   "outputs": [],
   "source": [
    "candidate_captions = [layout[idx] for idx in [fi+1, fi-1] if ((idx >= 0) & (idx < len(layout)))]\n",
    "candidate_captions = [candidate_caption for candidate_caption in candidate_captions if any(map(candidate_caption.text.lower().startswith, ['fig', 'figure']))]\n",
    "\n",
    "caption = candidate_captions[0].text if len(candidate_captions) > 0 else None\n",
    "caption"
   ]
  },
  {
   "cell_type": "markdown",
   "id": "d0b52b84-8642-4fc5-ab30-5086986da1bf",
   "metadata": {},
   "source": [
    "### Extract a Table"
   ]
  },
  {
   "cell_type": "code",
   "execution_count": null,
   "id": "c99eb18a-5c76-4d1b-9e8a-05f464e13842",
   "metadata": {},
   "outputs": [],
   "source": [
    "table_idxs = [idx for idx, b in enumerate(layout) if b.type=='Table']\n",
    "ti = table_idxs[0]\n",
    "tb = layout[ti]\n",
    "tb"
   ]
  },
  {
   "cell_type": "code",
   "execution_count": null,
   "id": "cbc97cb9-a4ae-4ab5-bece-aa4e42f43874",
   "metadata": {},
   "outputs": [],
   "source": [
    "plt.imshow(tb.pad(15,15,15,15).crop_image(np.array(img)))"
   ]
  },
  {
   "cell_type": "code",
   "execution_count": null,
   "id": "1f7385f2-485a-4f02-a61d-e091c5b72642",
   "metadata": {},
   "outputs": [],
   "source": [
    "candidate_captions = [layout[idx] for idx in [ti-1, ti+1] if ((idx >= 0) & (idx < len(layout)))]\n",
    "candidate_captions = [candidate_caption for candidate_caption in candidate_captions if any(map(candidate_caption.text.lower().startswith, ['tab', 'table']))]\n",
    "\n",
    "caption = candidate_captions[0].text if len(candidate_captions) > 0 else None\n",
    "caption"
   ]
  },
  {
   "cell_type": "markdown",
   "id": "77ff1dfb-7ba8-4abd-951b-edf2ea21d75d",
   "metadata": {},
   "source": [
    "## Bring it all together and construct a Document"
   ]
  },
  {
   "cell_type": "code",
   "execution_count": null,
   "id": "484ee658-b5da-4681-ba63-2fe4feec211c",
   "metadata": {},
   "outputs": [],
   "source": [
    "def get_page_image(page: fitz.Page) -> Image:\n",
    "    \"\"\"Extract an image of a page from a PDF\"\"\"\n",
    "    \n",
    "    pix = page.get_pixmap(matrix=fitz.Matrix(2, 2))\n",
    "    mode = \"RGBA\" if pix.alpha else \"RGB\"\n",
    "    img = Image.frombytes(mode, [pix.width, pix.height], pix.samples)\n",
    "    \n",
    "    return img"
   ]
  },
  {
   "cell_type": "code",
   "execution_count": null,
   "id": "58a4fdec-5083-42ee-aa12-7276559a5c34",
   "metadata": {},
   "outputs": [],
   "source": [
    "def sort_layout_by_columns(layout: lp.Layout) -> lp.Layout:\n",
    "    \"\"\"Sorts the blocks in the layout by columns.\"\"\"\n",
    "    \n",
    "    column_width = np.median([block.width for block in layout])\n",
    "    return layout.sort(\n",
    "        key = lambda block: (\n",
    "            block.coordinates[0] // column_width, # column number\n",
    "            block.coordinates[1] # Y position\n",
    "        )\n",
    "    )"
   ]
  },
  {
   "cell_type": "code",
   "execution_count": null,
   "id": "b5ad0772-4525-4d6e-8439-ce7456a71f9c",
   "metadata": {},
   "outputs": [],
   "source": [
    "def ocr_text_blocks(layout: lp.Layout, image: Image) -> lp.Layout:\n",
    "    \"\"\"Applies TesseractOCR to each text block\"\"\"\n",
    "    \n",
    "    for block in layout:\n",
    "        if block.type in {\"Text\", \"Title\", \"List\"}:\n",
    "            text_image = block.pad(15,5,15,5).crop_image(np.array(image))\n",
    "            text = pytesseract.image_to_string(text_image, config='--oem 3 --psm 6')\n",
    "            text = text.replace(\"-\\n\", '').replace('\\n', ' ').strip()\n",
    "            block.set(text=text, inplace=True)\n",
    "\n",
    "    return layout\n",
    "\n",
    "def extract_text_blocks(layout: lp.Layout, image: Image, page_num: int) -> List[Dict]:\n",
    "    return [\n",
    "        {\n",
    "            'text': block.text,\n",
    "            'type': block.type,\n",
    "            'coordinates': {\n",
    "                'x1': block.block.coordinates[0],\n",
    "                'y1': block.block.coordinates[1],\n",
    "                'x2': block.block.coordinates[2],\n",
    "                'y2': block.block.coordinates[3]\n",
    "            },\n",
    "            'score': block.score,\n",
    "            'page': page_num,\n",
    "            'block_id': block_idx\n",
    "        } for block_idx, block\n",
    "        in enumerate(layout)\n",
    "        if block.type in {'Text', 'Title', 'List'}\n",
    "    ]"
   ]
  },
  {
   "cell_type": "code",
   "execution_count": null,
   "id": "45bff127-42be-4f79-932b-aad380cfb616",
   "metadata": {},
   "outputs": [],
   "source": [
    "def _identify_caption(target_idx: lp.TextBlock, layout: lp.Layout, first_pass_offsets: List = None, candidates_start_with: Set = None) -> Union[str, None]:\n",
    "\n",
    "    candidate_captions = None\n",
    "    \n",
    "    if first_pass_offsets:\n",
    "        # first try the blocks immediately below and above the image, remembering to handle boundry cases\n",
    "        num_blocks = len(layout)\n",
    "        candidate_caption_idxs = [target_idx + offset for offset in first_pass_offsets]\n",
    "        candidate_caption_idxs = [idx for idx in candidate_caption_idxs if ((idx >= 0) & (idx < num_blocks))]\n",
    "        candidate_captions = [layout[idx] for idx in candidate_caption_idxs]\n",
    "        \n",
    "        if candidates_start_with:\n",
    "            candidate_captions = [candidate_caption for candidate_caption in candidate_captions if any(map(candidate_caption.text.lower().startswith, candidates_start_with))]\n",
    "\n",
    "    # Then failing that, try all text blocks by distance\n",
    "    if not candidate_captions:\n",
    "        # find those that have plausible text\n",
    "        candidate_captions = [block for block in layout if block.type in {'Text', 'Title', 'List'}]\n",
    "        \n",
    "        if candidate_captions and candidates_start_with:\n",
    "            candidate_captions = [candidate_caption for candidate_caption in candidate_captions if any(map(candidate_caption.text.lower().startswith, candidates_start_with))]\n",
    "\n",
    "        if candidate_captions:\n",
    "            target_block = layout[target_idx]\n",
    "            candidate_captions.sort(\n",
    "                key = lambda block: sum(\n",
    "                    pow(a - b, 2) for a,b in zip(block.block.center, target_block.block.center)\n",
    "                ), inplace = True\n",
    "            )\n",
    "        \n",
    "    return candidate_captions[0].text if len(candidate_captions) > 0 else None"
   ]
  },
  {
   "cell_type": "code",
   "execution_count": null,
   "id": "f419f86d-4994-4b96-af9b-a9652bee6f65",
   "metadata": {},
   "outputs": [],
   "source": [
    "def extract_figure_blocks(layout: lp.Layout, image: Image, page_num: int) -> List[Dict]:\n",
    "\n",
    "    figures = []\n",
    "    \n",
    "    figure_idxs = [idx for idx, b in enumerate(layout) if b.type=='Figure']\n",
    "\n",
    "    for figure_idx in figure_idxs:\n",
    "    \n",
    "        figure_block = layout[figure_idx]\n",
    "        figure_image = figure_block.pad(15,15,15,15).crop_image(np.array(image))\n",
    "        caption = _identify_caption(figure_idx, layout, first_pass_offsets=[1, -1], candidates_start_with={'fig', 'figure'})\n",
    "\n",
    "        figures.append({\n",
    "            'image': figure_image,\n",
    "            'caption': caption,\n",
    "            'type': block.type,\n",
    "            'coordinates': {\n",
    "                'x1': block.block.coordinates[0],\n",
    "                'y1': block.block.coordinates[1],\n",
    "                'x2': block.block.coordinates[2],\n",
    "                'y2': block.block.coordinates[3]\n",
    "            },\n",
    "            'score': block.score,\n",
    "            'page': page_num,\n",
    "            'block_id': figure_idx\n",
    "        })\n",
    "\n",
    "    return figures"
   ]
  },
  {
   "cell_type": "code",
   "execution_count": null,
   "id": "58c427e8-af70-46ea-b987-bd253da3738d",
   "metadata": {},
   "outputs": [],
   "source": [
    "def extract_table_blocks(layout: lp.Layout, image: Image, page_num: int) -> List[Dict]:\n",
    "\n",
    "    tables = []\n",
    "    \n",
    "    tables_idxs = [idx for idx, b in enumerate(layout) if b.type=='Table']\n",
    "\n",
    "    for table_idx in tables_idxs:\n",
    "    \n",
    "        table_block = layout[table_idx]\n",
    "        table_image = table_block.pad(15,15,15,15).crop_image(np.array(image))\n",
    "        table_data = None\n",
    "        #table_data = table_parser.extract_table_data(table_image)\n",
    "        caption = _identify_caption(table_idx, layout, first_pass_offsets=[-1, 1], candidates_start_with={'tab', 'table'})\n",
    "\n",
    "        tables.append({\n",
    "            'table': None, # TODO: parse image into pandas dataframe\n",
    "            'image': table_image,\n",
    "            'caption': caption,\n",
    "            'type': block.type,\n",
    "            'coordinates': {\n",
    "                'x1': block.block.coordinates[0],\n",
    "                'y1': block.block.coordinates[1],\n",
    "                'x2': block.block.coordinates[2],\n",
    "                'y2': block.block.coordinates[3]\n",
    "            },\n",
    "            'score': block.score,\n",
    "            'page': page_num,\n",
    "            'block_id': table_idx\n",
    "        })\n",
    "\n",
    "    return tables"
   ]
  },
  {
   "cell_type": "code",
   "execution_count": null,
   "id": "e3221cf0-c0fd-46ba-a11a-32750027fb04",
   "metadata": {
    "tags": []
   },
   "outputs": [],
   "source": [
    "paper_pdf = os.path.join(here(), 'data', 'paper.pdf')\n",
    "pdf = fitz.open(paper_pdf)"
   ]
  },
  {
   "cell_type": "code",
   "execution_count": null,
   "id": "da0588aa-991f-4448-b9eb-ea70f65feff0",
   "metadata": {
    "tags": []
   },
   "outputs": [],
   "source": [
    "def parse_pdf(pdf: fitz.Document) -> Dict:\n",
    "    document = {\n",
    "        'num_pages': len(pdf),\n",
    "        'text': list(),\n",
    "        'figures': list(),\n",
    "        'tables': list()\n",
    "    }\n",
    "    \n",
    "    for page_num, page in tqdm(enumerate(pdf), total = len(pdf)):\n",
    "    \n",
    "        image = get_page_image(page)\n",
    "        layout = model.detect(image)\n",
    "        layout = sort_layout_by_columns(layout)\n",
    "        layout = ocr_text_blocks(layout, image)\n",
    "    \n",
    "        page_text_blocks = extract_text_blocks(layout, image, page_num)\n",
    "        page_figure_blocks = extract_figure_blocks(layout, image, page_num)\n",
    "        page_table_blocks = extract_table_blocks(layout, image, page_num)\n",
    "    \n",
    "        document['text'].extend(page_text_blocks)\n",
    "        document['figures'].extend(page_figure_blocks)\n",
    "        document['tables'].extend(page_table_blocks)\n",
    "\n",
    "    return document"
   ]
  },
  {
   "cell_type": "code",
   "execution_count": null,
   "id": "6716ec3d-6f7f-4c9b-ae4a-3d111f373ee2",
   "metadata": {},
   "outputs": [],
   "source": [
    "document = parse_pdf(pdf)"
   ]
  },
  {
   "cell_type": "markdown",
   "id": "47c857bd-0d9c-4a33-b266-80e6c9f1a191",
   "metadata": {},
   "source": [
    "### Output to JSON and extras"
   ]
  },
  {
   "cell_type": "code",
   "execution_count": null,
   "id": "0854a3ad-9039-4987-8b5a-901e0cc88ffa",
   "metadata": {},
   "outputs": [],
   "source": [
    "def output_json(document: str, out_path: str):\n",
    "\n",
    "    if not os.path.exists(out_path):\n",
    "        os.makedirs(out_path)\n",
    "\n",
    "    # save figures as png\n",
    "    num_figure_digits = int(np.ceil(np.log10(len(document['figures']))))\n",
    "    for figure_num, figure in enumerate(document['figures']):\n",
    "        figure_name = \"figure%0*d.png\" % (num_figure_digits, figure_num)\n",
    "        \n",
    "        figure_image = Image.fromarray(figure['image'])\n",
    "        figure_image.save(os.path.join(out_path, figure_name), 'png')\n",
    "\n",
    "        figure['image'] = figure_name\n",
    "\n",
    "    # save tables as png/csv\n",
    "    num_table_digits = int(np.ceil(np.log10(len(document['tables']))))\n",
    "    for table_num, table in enumerate(document['tables']):\n",
    "        table_name = \"table%0*d\" % (num_table_digits, table_num)\n",
    "        table_image_name = f\"{table_name}.png\"\n",
    "        table_csv_name = f\"{table_name}.csv\"\n",
    "        \n",
    "        table_image = Image.fromarray(table['image'])\n",
    "        table_image.save(os.path.join(out_path, table_image_name), 'png')\n",
    "        table['image'] = table_image_name\n",
    "\n",
    "        if table.get('table', None):\n",
    "            table['table'].to_csv(os.path.join(out_path, table_csv_name), index=False)\n",
    "            table['table'] = table_csv_name\n",
    "\n",
    "    # output the document as json\n",
    "    document_json_file = os.path.join(out_path, 'document.json')\n",
    "    with open(document_json_file, 'w') as fp:\n",
    "        json.dump(document, fp)\n",
    "    "
   ]
  },
  {
   "cell_type": "code",
   "execution_count": null,
   "id": "bdad295e-f5e8-483a-9319-9aeae47e7398",
   "metadata": {},
   "outputs": [],
   "source": [
    "output_json(document, '.')"
   ]
  },
  {
   "cell_type": "code",
   "execution_count": null,
   "id": "b6e2521d-b91d-4c0c-906e-06f030c99d9b",
   "metadata": {},
   "outputs": [],
   "source": []
  },
  {
   "cell_type": "code",
   "execution_count": null,
   "id": "2114f446-2dbf-4f7e-a1f1-335904bdf11e",
   "metadata": {},
   "outputs": [],
   "source": [
    "image = Image.open(os.path.join(here(), 'test', 'table0.png'))"
   ]
  },
  {
   "cell_type": "code",
   "execution_count": null,
   "id": "8ff82ae1-283f-491e-928e-af74fafe9331",
   "metadata": {},
   "outputs": [],
   "source": [
    "import sys\n",
    "sys.path.insert(0, '..')"
   ]
  },
  {
   "cell_type": "code",
   "execution_count": null,
   "id": "42cf86c5-b961-45f2-9848-d970011c53f5",
   "metadata": {},
   "outputs": [],
   "source": [
    "from article_parser.table_parser import extract_table_data"
   ]
  },
  {
   "cell_type": "code",
   "execution_count": null,
   "id": "56b04f07-d7f3-4429-aa15-147ef15db8ab",
   "metadata": {},
   "outputs": [],
   "source": [
    "import PIL\n",
    "import os\n",
    "from pyprojroot import here\n",
    "image = PIL.Image.open(os.path.join(here(), 'test', 'table0.png'))\n",
    "image"
   ]
  },
  {
   "cell_type": "code",
   "execution_count": null,
   "id": "3d9bf019-dcab-4e17-ae08-a98b2eb425b6",
   "metadata": {},
   "outputs": [],
   "source": [
    "df = extract_table_data(image)"
   ]
  },
  {
   "cell_type": "code",
   "execution_count": null,
   "id": "1ff04989-92e0-4b0d-a515-ad02df78d5c2",
   "metadata": {},
   "outputs": [],
   "source": [
    "df"
   ]
  },
  {
   "cell_type": "code",
   "execution_count": null,
   "id": "adff3d3f-d610-4e04-8f96-7a10ddd08337",
   "metadata": {},
   "outputs": [],
   "source": [
    "df.to_csv('foo.csv', index=False, header=False)"
   ]
  }
 ],
 "metadata": {
  "kernelspec": {
   "display_name": "Python 3 (ipykernel)",
   "language": "python",
   "name": "python3"
  },
  "language_info": {
   "codemirror_mode": {
    "name": "ipython",
    "version": 3
   },
   "file_extension": ".py",
   "mimetype": "text/x-python",
   "name": "python",
   "nbconvert_exporter": "python",
   "pygments_lexer": "ipython3",
   "version": "3.10.6"
  }
 },
 "nbformat": 4,
 "nbformat_minor": 5
}
